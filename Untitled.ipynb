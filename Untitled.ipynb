{
 "cells": [
  {
   "cell_type": "code",
   "execution_count": 1,
   "metadata": {},
   "outputs": [],
   "source": [
    "from urllib.request import urlopen\n",
    "from bs4 import BeautifulSoup\n",
    "import pandas as pd\n",
    "import numpy as np\n",
    "from datetime import datetime\n",
    "import re"
   ]
  },
  {
   "cell_type": "code",
   "execution_count": 2,
   "metadata": {},
   "outputs": [
    {
     "name": "stderr",
     "output_type": "stream",
     "text": [
      "'{sys.executable}' is not recognized as an internal or external command,\n",
      "operable program or batch file.\n"
     ]
    }
   ],
   "source": [
    "!{sys.executable} -m pip install lxml"
   ]
  },
  {
   "cell_type": "code",
   "execution_count": 3,
   "metadata": {},
   "outputs": [],
   "source": [
    "team_codes = ['atl', 'buf', 'car',\n",
    "              'chi', 'cin', 'cle',\n",
    "              'clt', 'crd', 'dal',\n",
    "              'den', 'det', 'gnb',\n",
    "              'htx', 'jax', 'kan',\n",
    "              'mia', 'min', 'nor',\n",
    "              'nwe', 'nyg', 'nyj',\n",
    "              'oti', 'phi', 'pit',\n",
    "              'rai', 'ram', 'rav',\n",
    "              'sdg', 'sea', 'sfo',\n",
    "              'tam', 'was']"
   ]
  },
  {
   "cell_type": "code",
   "execution_count": 4,
   "metadata": {},
   "outputs": [],
   "source": [
    "start_year = 1985\n",
    "end_year = 2020\n",
    "dates = [datetime.strftime(d, '%Y%m%d') for d in pd.date_range(start='01-01-1985', end='01-01-2020', freq='1D')]"
   ]
  },
  {
   "cell_type": "code",
   "execution_count": 5,
   "metadata": {},
   "outputs": [],
   "source": [
    "results = {}"
   ]
  },
  {
   "cell_type": "code",
   "execution_count": 6,
   "metadata": {},
   "outputs": [
    {
     "data": {
      "text/plain": [
       "'https://www.pro-football-reference.com/boxscores/201712240chi.htm'"
      ]
     },
     "execution_count": 6,
     "metadata": {},
     "output_type": "execute_result"
    }
   ],
   "source": [
    "url = \"https://www.pro-football-reference.com/boxscores/{}0{}.htm\"\n",
    "urltest = url.format('20171224', 'chi')\n",
    "urltest"
   ]
  },
  {
   "cell_type": "code",
   "execution_count": 15,
   "metadata": {},
   "outputs": [],
   "source": [
    "# Open url and parse\n",
    "html = urlopen(urltest).read()\n",
    "soup = BeautifulSoup(html)\n",
    "\n",
    "# Get scores by quarter\n",
    "score_tables = soup.findAll('table')[0]\n",
    "quarter_headers = [th.text for th in score_tables.findAll('thead')[0].findAll('th') if len(th.text) > 0]\n",
    "tbody = score_tables.findAll('tbody')[0]\n",
    "quarter_values = [[cell.text for i, cell in enumerate(row.findAll('td'))] for row in tbody.findAll('tr')]\n",
    "\n",
    "# Get box score\n",
    "all_team = soup.find(id='all_team_stats')\n",
    "\n",
    "def uncomment_html(unparsed):\n",
    "    return re.sub('<!--', '', re.sub('-->', '', unparsed))\n",
    "uncommented_string = uncomment_html(str(all_team))\n",
    "soup_box = BeautifulSoup(uncomment_html(str(all_team)))\n",
    "box = soup_box.findAll(\"table\")[0]\n",
    "\n",
    "# Get teams in order of [Away, Home]\n",
    "teams = [th.text for th in box.findAll('thead')[0].findAll('th') if len(th.text) > 0]\n",
    "\n",
    "# Get box score values\n",
    "tbody = box.findAll('tbody')[0]\n",
    "features = [header.text for header in tbody.findAll('th')]\n",
    "values = [[cell.text for i, cell in enumerate(row.findAll('td'))] for row in tbody.findAll('tr')]\n",
    "\n",
    "# Gather\n",
    "results = {\n",
    "    'quarter_headers': quarter_headers,\n",
    "    'quarter_values': quarter_values,\n",
    "    'teams': teams,\n",
    "    'features': features,\n",
    "    'values': values\n",
    "}"
   ]
  },
  {
   "cell_type": "code",
   "execution_count": 14,
   "metadata": {},
   "outputs": [
    {
     "data": {
      "text/plain": [
       "{'quarter_headers': ['\\xa0', '\\xa0', '1', '2', '3', '4', 'Final'],\n",
       " 'quarter_values': [['\\n\\n\\nvia Sports Logos.net\\nAbout logos\\n\\n',\n",
       "   'Cleveland Browns',\n",
       "   '0',\n",
       "   '3',\n",
       "   '0',\n",
       "   '0',\n",
       "   '3'],\n",
       "  ['\\n\\n\\nvia Sports Logos.net\\nAbout logos\\n\\n',\n",
       "   'Chicago Bears',\n",
       "   '6',\n",
       "   '0',\n",
       "   '14',\n",
       "   '0',\n",
       "   '20']],\n",
       " 'teams': ['CLE', 'CHI'],\n",
       " 'features': ['First Downs',\n",
       "  'Rush-Yds-TDs',\n",
       "  'Cmp-Att-Yd-TD-INT',\n",
       "  'Sacked-Yards',\n",
       "  'Net Pass Yards',\n",
       "  'Total Yards',\n",
       "  'Fumbles-Lost',\n",
       "  'Turnovers',\n",
       "  'Penalties-Yards',\n",
       "  'Third Down Conv.',\n",
       "  'Fourth Down Conv.',\n",
       "  'Time of Possession'],\n",
       " 'values': [['12', '16'],\n",
       "  ['20-76-0', '31-97-3'],\n",
       "  ['18-36-182-0-2', '14-23-193-0-0'],\n",
       "  ['1-4', '5-32'],\n",
       "  ['178', '161'],\n",
       "  ['254', '258'],\n",
       "  ['2-1', '1-0'],\n",
       "  ['3', '0'],\n",
       "  ['8-60', '4-25'],\n",
       "  ['4-13', '7-16'],\n",
       "  ['0-1', '1-1'],\n",
       "  ['26:46', '33:14']]}"
      ]
     },
     "execution_count": 14,
     "metadata": {},
     "output_type": "execute_result"
    }
   ],
   "source": [
    "results"
   ]
  },
  {
   "cell_type": "code",
   "execution_count": 20,
   "metadata": {},
   "outputs": [],
   "source": [
    "import os\n",
    "import json\n",
    "raw_dir = os.path.join(os.getcwd(), 'data', 'nfl', 'raw')\n",
    "with open(os.path.join(raw_dir, 'atl_raw.json'), 'r') as fp:\n",
    "    atl = json.load(fp)"
   ]
  },
  {
   "cell_type": "code",
   "execution_count": 24,
   "metadata": {},
   "outputs": [
    {
     "data": {
      "text/plain": [
       "{'teams': ['GNB', 'ATL'],\n",
       " 'features': ['First Downs',\n",
       "  'Rush-Yds-TDs',\n",
       "  'Cmp-Att-Yd-TD-INT',\n",
       "  'Sacked-Yards',\n",
       "  'Net Pass Yards',\n",
       "  'Total Yards',\n",
       "  'Fumbles-Lost',\n",
       "  'Turnovers',\n",
       "  'Penalties-Yards'],\n",
       " 'values': [['24', '16'],\n",
       "  ['43-196-3', '27-145-2'],\n",
       "  ['16-26-165-0-1', '10-24-119-0-1'],\n",
       "  ['1-11', '1-11'],\n",
       "  ['154', '108'],\n",
       "  ['350', '253'],\n",
       "  ['0-0', '2-0'],\n",
       "  ['1', '1'],\n",
       "  ['2-30', '7-69']],\n",
       " 'quarter_values': [['\\n\\n\\nvia Sports Logos.net\\nAbout logos\\n\\n',\n",
       "   'Green Bay Packers',\n",
       "   '0',\n",
       "   '10',\n",
       "   '0',\n",
       "   '14',\n",
       "   '24'],\n",
       "  ['\\n\\n\\nvia Sports Logos.net\\nAbout logos\\n\\n',\n",
       "   'Atlanta Falcons',\n",
       "   '0',\n",
       "   '10',\n",
       "   '10',\n",
       "   '0',\n",
       "   '20']],\n",
       " 'quarter_headers': ['\\xa0', '\\xa0', '1', '2', '3', '4', 'Final']}"
      ]
     },
     "execution_count": 24,
     "metadata": {},
     "output_type": "execute_result"
    }
   ],
   "source": [
    "atl[list(atl.keys())[0]]"
   ]
  },
  {
   "cell_type": "code",
   "execution_count": null,
   "metadata": {},
   "outputs": [],
   "source": []
  },
  {
   "cell_type": "code",
   "execution_count": null,
   "metadata": {},
   "outputs": [],
   "source": []
  },
  {
   "cell_type": "code",
   "execution_count": null,
   "metadata": {},
   "outputs": [],
   "source": []
  },
  {
   "cell_type": "code",
   "execution_count": null,
   "metadata": {},
   "outputs": [],
   "source": []
  },
  {
   "cell_type": "code",
   "execution_count": null,
   "metadata": {},
   "outputs": [],
   "source": []
  },
  {
   "cell_type": "code",
   "execution_count": null,
   "metadata": {},
   "outputs": [],
   "source": []
  },
  {
   "cell_type": "code",
   "execution_count": null,
   "metadata": {},
   "outputs": [],
   "source": []
  }
 ],
 "metadata": {
  "kernelspec": {
   "display_name": "Scott (website)",
   "language": "python",
   "name": "website"
  },
  "language_info": {
   "codemirror_mode": {
    "name": "ipython",
    "version": 3
   },
   "file_extension": ".py",
   "mimetype": "text/x-python",
   "name": "python",
   "nbconvert_exporter": "python",
   "pygments_lexer": "ipython3",
   "version": "3.6.10"
  }
 },
 "nbformat": 4,
 "nbformat_minor": 2
}
